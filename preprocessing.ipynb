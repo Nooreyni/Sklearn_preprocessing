{
 "metadata": {
  "language_info": {
   "codemirror_mode": {
    "name": "ipython",
    "version": 3
   },
   "file_extension": ".py",
   "mimetype": "text/x-python",
   "name": "python",
   "nbconvert_exporter": "python",
   "pygments_lexer": "ipython3",
   "version": "3.8.5-final"
  },
  "orig_nbformat": 2,
  "kernelspec": {
   "name": "python38564bit5f2391659b0b4e51a5ae522873c52736",
   "display_name": "Python 3.8.5 64-bit",
   "language": "python"
  }
 },
 "nbformat": 4,
 "nbformat_minor": 2,
 "cells": [
  {
   "cell_type": "code",
   "execution_count": 30,
   "metadata": {},
   "outputs": [],
   "source": [
    "#importing modules\n",
    "import pandas as pd\n",
    "import numpy as np\n",
    "import matplotlib\n",
    "import matplotlib.pyplot as plt\n",
    "import seaborn as sns\n",
    "from sklearn.datasets import load_iris\n",
    "from sklearn.model_selection import train_test_split\n",
    "from sklearn.preprocessing import PolynomialFeatures\n",
    "from sklearn.preprocessing import StandardScaler\n",
    "from sklearn.linear_model import LinearRegression\n",
    "from sklearn.linear_model import SGDClassifier\n",
    "from sklearn.pipeline import make_pipeline\n",
    "from sklearn.model_selection import GridSearchCV"
   ]
  },
  {
   "cell_type": "code",
   "execution_count": 2,
   "metadata": {},
   "outputs": [],
   "source": [
    "data = load_iris()"
   ]
  },
  {
   "cell_type": "code",
   "execution_count": 3,
   "metadata": {},
   "outputs": [
    {
     "output_type": "execute_result",
     "data": {
      "text/plain": [
       "['sepal length (cm)',\n",
       " 'sepal width (cm)',\n",
       " 'petal length (cm)',\n",
       " 'petal width (cm)']"
      ]
     },
     "metadata": {},
     "execution_count": 3
    }
   ],
   "source": [
    "data.feature_names"
   ]
  },
  {
   "cell_type": "code",
   "execution_count": 4,
   "metadata": {},
   "outputs": [],
   "source": [
    "# defining X and Y\n",
    "X = data.data\n",
    "y = data.target"
   ]
  },
  {
   "cell_type": "code",
   "execution_count": 5,
   "metadata": {},
   "outputs": [],
   "source": [
    "X_train, X_test, y_train, y_test = train_test_split(X, y, test_size=0.2)"
   ]
  },
  {
   "source": [
    "## Without preprocessing and transforming/normalizing"
   ],
   "cell_type": "markdown",
   "metadata": {}
  },
  {
   "cell_type": "code",
   "execution_count": 6,
   "metadata": {},
   "outputs": [
    {
     "output_type": "execute_result",
     "data": {
      "text/plain": [
       "<matplotlib.collections.PathCollection at 0x7f3f0f57b5e0>"
      ]
     },
     "metadata": {},
     "execution_count": 6
    },
    {
     "output_type": "display_data",
     "data": {
      "text/plain": "<Figure size 432x288 with 1 Axes>",
      "image/svg+xml": "<?xml version=\"1.0\" encoding=\"utf-8\" standalone=\"no\"?>\n<!DOCTYPE svg PUBLIC \"-//W3C//DTD SVG 1.1//EN\"\n  \"http://www.w3.org/Graphics/SVG/1.1/DTD/svg11.dtd\">\n<!-- Created with matplotlib (https://matplotlib.org/) -->\n<svg height=\"248.518125pt\" version=\"1.1\" viewBox=\"0 0 372.103125 248.518125\" width=\"372.103125pt\" xmlns=\"http://www.w3.org/2000/svg\" xmlns:xlink=\"http://www.w3.org/1999/xlink\">\n <metadata>\n  <rdf:RDF xmlns:cc=\"http://creativecommons.org/ns#\" xmlns:dc=\"http://purl.org/dc/elements/1.1/\" xmlns:rdf=\"http://www.w3.org/1999/02/22-rdf-syntax-ns#\">\n   <cc:Work>\n    <dc:type rdf:resource=\"http://purl.org/dc/dcmitype/StillImage\"/>\n    <dc:date>2020-12-20T11:00:56.956870</dc:date>\n    <dc:format>image/svg+xml</dc:format>\n    <dc:creator>\n     <cc:Agent>\n      <dc:title>Matplotlib v3.3.3, https://matplotlib.org/</dc:title>\n     </cc:Agent>\n    </dc:creator>\n   </cc:Work>\n  </rdf:RDF>\n </metadata>\n <defs>\n  <style type=\"text/css\">*{stroke-linecap:butt;stroke-linejoin:round;}</style>\n </defs>\n <g id=\"figure_1\">\n  <g id=\"patch_1\">\n   <path d=\"M 0 248.518125 \nL 372.103125 248.518125 \nL 372.103125 0 \nL 0 0 \nz\n\" style=\"fill:none;\"/>\n  </g>\n  <g id=\"axes_1\">\n   <g id=\"patch_2\">\n    <path d=\"M 30.103125 224.64 \nL 364.903125 224.64 \nL 364.903125 7.2 \nL 30.103125 7.2 \nz\n\" style=\"fill:#ffffff;\"/>\n   </g>\n   <g id=\"PathCollection_1\">\n    <defs>\n     <path d=\"M 0 3 \nC 0.795609 3 1.55874 2.683901 2.12132 2.12132 \nC 2.683901 1.55874 3 0.795609 3 0 \nC 3 -0.795609 2.683901 -1.55874 2.12132 -2.12132 \nC 1.55874 -2.683901 0.795609 -3 0 -3 \nC -0.795609 -3 -1.55874 -2.683901 -2.12132 -2.12132 \nC -2.683901 -1.55874 -3 -0.795609 -3 0 \nC -3 0.795609 -2.683901 1.55874 -2.12132 2.12132 \nC -1.55874 2.683901 -0.795609 3 0 3 \nz\n\" id=\"mb5a4e2ba36\" style=\"stroke:#1f77b4;\"/>\n    </defs>\n    <g clip-path=\"url(#pfbd2e4c734)\">\n     <use style=\"fill:#1f77b4;stroke:#1f77b4;\" x=\"65.95613\" xlink:href=\"#mb5a4e2ba36\" y=\"206.52\"/>\n     <use style=\"fill:#1f77b4;stroke:#1f77b4;\" x=\"65.95613\" xlink:href=\"#mb5a4e2ba36\" y=\"206.52\"/>\n     <use style=\"fill:#1f77b4;stroke:#1f77b4;\" x=\"60.797424\" xlink:href=\"#mb5a4e2ba36\" y=\"206.52\"/>\n     <use style=\"fill:#1f77b4;stroke:#1f77b4;\" x=\"71.114835\" xlink:href=\"#mb5a4e2ba36\" y=\"206.52\"/>\n     <use style=\"fill:#1f77b4;stroke:#1f77b4;\" x=\"65.95613\" xlink:href=\"#mb5a4e2ba36\" y=\"206.52\"/>\n     <use style=\"fill:#1f77b4;stroke:#1f77b4;\" x=\"81.432247\" xlink:href=\"#mb5a4e2ba36\" y=\"190.047273\"/>\n     <use style=\"fill:#1f77b4;stroke:#1f77b4;\" x=\"65.95613\" xlink:href=\"#mb5a4e2ba36\" y=\"198.283636\"/>\n     <use style=\"fill:#1f77b4;stroke:#1f77b4;\" x=\"71.114835\" xlink:href=\"#mb5a4e2ba36\" y=\"206.52\"/>\n     <use style=\"fill:#1f77b4;stroke:#1f77b4;\" x=\"65.95613\" xlink:href=\"#mb5a4e2ba36\" y=\"206.52\"/>\n     <use style=\"fill:#1f77b4;stroke:#1f77b4;\" x=\"71.114835\" xlink:href=\"#mb5a4e2ba36\" y=\"214.756364\"/>\n     <use style=\"fill:#1f77b4;stroke:#1f77b4;\" x=\"71.114835\" xlink:href=\"#mb5a4e2ba36\" y=\"206.52\"/>\n     <use style=\"fill:#1f77b4;stroke:#1f77b4;\" x=\"76.273541\" xlink:href=\"#mb5a4e2ba36\" y=\"206.52\"/>\n     <use style=\"fill:#1f77b4;stroke:#1f77b4;\" x=\"65.95613\" xlink:href=\"#mb5a4e2ba36\" y=\"214.756364\"/>\n     <use style=\"fill:#1f77b4;stroke:#1f77b4;\" x=\"50.480013\" xlink:href=\"#mb5a4e2ba36\" y=\"214.756364\"/>\n     <use style=\"fill:#1f77b4;stroke:#1f77b4;\" x=\"55.638718\" xlink:href=\"#mb5a4e2ba36\" y=\"206.52\"/>\n     <use style=\"fill:#1f77b4;stroke:#1f77b4;\" x=\"71.114835\" xlink:href=\"#mb5a4e2ba36\" y=\"190.047273\"/>\n     <use style=\"fill:#1f77b4;stroke:#1f77b4;\" x=\"60.797424\" xlink:href=\"#mb5a4e2ba36\" y=\"190.047273\"/>\n     <use style=\"fill:#1f77b4;stroke:#1f77b4;\" x=\"65.95613\" xlink:href=\"#mb5a4e2ba36\" y=\"198.283636\"/>\n     <use style=\"fill:#1f77b4;stroke:#1f77b4;\" x=\"81.432247\" xlink:href=\"#mb5a4e2ba36\" y=\"198.283636\"/>\n     <use style=\"fill:#1f77b4;stroke:#1f77b4;\" x=\"71.114835\" xlink:href=\"#mb5a4e2ba36\" y=\"198.283636\"/>\n     <use style=\"fill:#1f77b4;stroke:#1f77b4;\" x=\"81.432247\" xlink:href=\"#mb5a4e2ba36\" y=\"206.52\"/>\n     <use style=\"fill:#1f77b4;stroke:#1f77b4;\" x=\"71.114835\" xlink:href=\"#mb5a4e2ba36\" y=\"190.047273\"/>\n     <use style=\"fill:#1f77b4;stroke:#1f77b4;\" x=\"45.321307\" xlink:href=\"#mb5a4e2ba36\" y=\"206.52\"/>\n     <use style=\"fill:#1f77b4;stroke:#1f77b4;\" x=\"81.432247\" xlink:href=\"#mb5a4e2ba36\" y=\"181.810909\"/>\n     <use style=\"fill:#1f77b4;stroke:#1f77b4;\" x=\"91.749658\" xlink:href=\"#mb5a4e2ba36\" y=\"206.52\"/>\n     <use style=\"fill:#1f77b4;stroke:#1f77b4;\" x=\"76.273541\" xlink:href=\"#mb5a4e2ba36\" y=\"206.52\"/>\n     <use style=\"fill:#1f77b4;stroke:#1f77b4;\" x=\"76.273541\" xlink:href=\"#mb5a4e2ba36\" y=\"190.047273\"/>\n     <use style=\"fill:#1f77b4;stroke:#1f77b4;\" x=\"71.114835\" xlink:href=\"#mb5a4e2ba36\" y=\"206.52\"/>\n     <use style=\"fill:#1f77b4;stroke:#1f77b4;\" x=\"65.95613\" xlink:href=\"#mb5a4e2ba36\" y=\"206.52\"/>\n     <use style=\"fill:#1f77b4;stroke:#1f77b4;\" x=\"76.273541\" xlink:href=\"#mb5a4e2ba36\" y=\"206.52\"/>\n     <use style=\"fill:#1f77b4;stroke:#1f77b4;\" x=\"76.273541\" xlink:href=\"#mb5a4e2ba36\" y=\"206.52\"/>\n     <use style=\"fill:#1f77b4;stroke:#1f77b4;\" x=\"71.114835\" xlink:href=\"#mb5a4e2ba36\" y=\"190.047273\"/>\n     <use style=\"fill:#1f77b4;stroke:#1f77b4;\" x=\"71.114835\" xlink:href=\"#mb5a4e2ba36\" y=\"214.756364\"/>\n     <use style=\"fill:#1f77b4;stroke:#1f77b4;\" x=\"65.95613\" xlink:href=\"#mb5a4e2ba36\" y=\"206.52\"/>\n     <use style=\"fill:#1f77b4;stroke:#1f77b4;\" x=\"71.114835\" xlink:href=\"#mb5a4e2ba36\" y=\"206.52\"/>\n     <use style=\"fill:#1f77b4;stroke:#1f77b4;\" x=\"55.638718\" xlink:href=\"#mb5a4e2ba36\" y=\"206.52\"/>\n     <use style=\"fill:#1f77b4;stroke:#1f77b4;\" x=\"60.797424\" xlink:href=\"#mb5a4e2ba36\" y=\"206.52\"/>\n     <use style=\"fill:#1f77b4;stroke:#1f77b4;\" x=\"65.95613\" xlink:href=\"#mb5a4e2ba36\" y=\"214.756364\"/>\n     <use style=\"fill:#1f77b4;stroke:#1f77b4;\" x=\"60.797424\" xlink:href=\"#mb5a4e2ba36\" y=\"206.52\"/>\n     <use style=\"fill:#1f77b4;stroke:#1f77b4;\" x=\"71.114835\" xlink:href=\"#mb5a4e2ba36\" y=\"206.52\"/>\n     <use style=\"fill:#1f77b4;stroke:#1f77b4;\" x=\"60.797424\" xlink:href=\"#mb5a4e2ba36\" y=\"198.283636\"/>\n     <use style=\"fill:#1f77b4;stroke:#1f77b4;\" x=\"60.797424\" xlink:href=\"#mb5a4e2ba36\" y=\"198.283636\"/>\n     <use style=\"fill:#1f77b4;stroke:#1f77b4;\" x=\"60.797424\" xlink:href=\"#mb5a4e2ba36\" y=\"206.52\"/>\n     <use style=\"fill:#1f77b4;stroke:#1f77b4;\" x=\"76.273541\" xlink:href=\"#mb5a4e2ba36\" y=\"173.574545\"/>\n     <use style=\"fill:#1f77b4;stroke:#1f77b4;\" x=\"91.749658\" xlink:href=\"#mb5a4e2ba36\" y=\"190.047273\"/>\n     <use style=\"fill:#1f77b4;stroke:#1f77b4;\" x=\"65.95613\" xlink:href=\"#mb5a4e2ba36\" y=\"198.283636\"/>\n     <use style=\"fill:#1f77b4;stroke:#1f77b4;\" x=\"76.273541\" xlink:href=\"#mb5a4e2ba36\" y=\"206.52\"/>\n     <use style=\"fill:#1f77b4;stroke:#1f77b4;\" x=\"65.95613\" xlink:href=\"#mb5a4e2ba36\" y=\"206.52\"/>\n     <use style=\"fill:#1f77b4;stroke:#1f77b4;\" x=\"71.114835\" xlink:href=\"#mb5a4e2ba36\" y=\"206.52\"/>\n     <use style=\"fill:#1f77b4;stroke:#1f77b4;\" x=\"65.95613\" xlink:href=\"#mb5a4e2ba36\" y=\"206.52\"/>\n     <use style=\"fill:#1f77b4;stroke:#1f77b4;\" x=\"236.193418\" xlink:href=\"#mb5a4e2ba36\" y=\"107.683636\"/>\n     <use style=\"fill:#1f77b4;stroke:#1f77b4;\" x=\"225.876006\" xlink:href=\"#mb5a4e2ba36\" y=\"99.447273\"/>\n     <use style=\"fill:#1f77b4;stroke:#1f77b4;\" x=\"246.510829\" xlink:href=\"#mb5a4e2ba36\" y=\"99.447273\"/>\n     <use style=\"fill:#1f77b4;stroke:#1f77b4;\" x=\"200.082478\" xlink:href=\"#mb5a4e2ba36\" y=\"115.92\"/>\n     <use style=\"fill:#1f77b4;stroke:#1f77b4;\" x=\"231.034712\" xlink:href=\"#mb5a4e2ba36\" y=\"99.447273\"/>\n     <use style=\"fill:#1f77b4;stroke:#1f77b4;\" x=\"225.876006\" xlink:href=\"#mb5a4e2ba36\" y=\"115.92\"/>\n     <use style=\"fill:#1f77b4;stroke:#1f77b4;\" x=\"236.193418\" xlink:href=\"#mb5a4e2ba36\" y=\"91.210909\"/>\n     <use style=\"fill:#1f77b4;stroke:#1f77b4;\" x=\"163.971538\" xlink:href=\"#mb5a4e2ba36\" y=\"140.629091\"/>\n     <use style=\"fill:#1f77b4;stroke:#1f77b4;\" x=\"231.034712\" xlink:href=\"#mb5a4e2ba36\" y=\"115.92\"/>\n     <use style=\"fill:#1f77b4;stroke:#1f77b4;\" x=\"194.923772\" xlink:href=\"#mb5a4e2ba36\" y=\"107.683636\"/>\n     <use style=\"fill:#1f77b4;stroke:#1f77b4;\" x=\"174.288949\" xlink:href=\"#mb5a4e2ba36\" y=\"140.629091\"/>\n     <use style=\"fill:#1f77b4;stroke:#1f77b4;\" x=\"210.399889\" xlink:href=\"#mb5a4e2ba36\" y=\"99.447273\"/>\n     <use style=\"fill:#1f77b4;stroke:#1f77b4;\" x=\"200.082478\" xlink:href=\"#mb5a4e2ba36\" y=\"140.629091\"/>\n     <use style=\"fill:#1f77b4;stroke:#1f77b4;\" x=\"236.193418\" xlink:href=\"#mb5a4e2ba36\" y=\"107.683636\"/>\n     <use style=\"fill:#1f77b4;stroke:#1f77b4;\" x=\"179.447655\" xlink:href=\"#mb5a4e2ba36\" y=\"115.92\"/>\n     <use style=\"fill:#1f77b4;stroke:#1f77b4;\" x=\"220.717301\" xlink:href=\"#mb5a4e2ba36\" y=\"107.683636\"/>\n     <use style=\"fill:#1f77b4;stroke:#1f77b4;\" x=\"225.876006\" xlink:href=\"#mb5a4e2ba36\" y=\"99.447273\"/>\n     <use style=\"fill:#1f77b4;stroke:#1f77b4;\" x=\"205.241184\" xlink:href=\"#mb5a4e2ba36\" y=\"140.629091\"/>\n     <use style=\"fill:#1f77b4;stroke:#1f77b4;\" x=\"225.876006\" xlink:href=\"#mb5a4e2ba36\" y=\"99.447273\"/>\n     <use style=\"fill:#1f77b4;stroke:#1f77b4;\" x=\"194.923772\" xlink:href=\"#mb5a4e2ba36\" y=\"132.392727\"/>\n     <use style=\"fill:#1f77b4;stroke:#1f77b4;\" x=\"241.352123\" xlink:href=\"#mb5a4e2ba36\" y=\"74.738182\"/>\n     <use style=\"fill:#1f77b4;stroke:#1f77b4;\" x=\"200.082478\" xlink:href=\"#mb5a4e2ba36\" y=\"115.92\"/>\n     <use style=\"fill:#1f77b4;stroke:#1f77b4;\" x=\"246.510829\" xlink:href=\"#mb5a4e2ba36\" y=\"99.447273\"/>\n     <use style=\"fill:#1f77b4;stroke:#1f77b4;\" x=\"236.193418\" xlink:href=\"#mb5a4e2ba36\" y=\"124.156364\"/>\n     <use style=\"fill:#1f77b4;stroke:#1f77b4;\" x=\"215.558595\" xlink:href=\"#mb5a4e2ba36\" y=\"115.92\"/>\n     <use style=\"fill:#1f77b4;stroke:#1f77b4;\" x=\"220.717301\" xlink:href=\"#mb5a4e2ba36\" y=\"107.683636\"/>\n     <use style=\"fill:#1f77b4;stroke:#1f77b4;\" x=\"241.352123\" xlink:href=\"#mb5a4e2ba36\" y=\"107.683636\"/>\n     <use style=\"fill:#1f77b4;stroke:#1f77b4;\" x=\"251.669535\" xlink:href=\"#mb5a4e2ba36\" y=\"82.974545\"/>\n     <use style=\"fill:#1f77b4;stroke:#1f77b4;\" x=\"225.876006\" xlink:href=\"#mb5a4e2ba36\" y=\"99.447273\"/>\n     <use style=\"fill:#1f77b4;stroke:#1f77b4;\" x=\"174.288949\" xlink:href=\"#mb5a4e2ba36\" y=\"140.629091\"/>\n     <use style=\"fill:#1f77b4;stroke:#1f77b4;\" x=\"189.765066\" xlink:href=\"#mb5a4e2ba36\" y=\"132.392727\"/>\n     <use style=\"fill:#1f77b4;stroke:#1f77b4;\" x=\"184.606361\" xlink:href=\"#mb5a4e2ba36\" y=\"140.629091\"/>\n     <use style=\"fill:#1f77b4;stroke:#1f77b4;\" x=\"194.923772\" xlink:href=\"#mb5a4e2ba36\" y=\"124.156364\"/>\n     <use style=\"fill:#1f77b4;stroke:#1f77b4;\" x=\"256.828241\" xlink:href=\"#mb5a4e2ba36\" y=\"91.210909\"/>\n     <use style=\"fill:#1f77b4;stroke:#1f77b4;\" x=\"225.876006\" xlink:href=\"#mb5a4e2ba36\" y=\"99.447273\"/>\n     <use style=\"fill:#1f77b4;stroke:#1f77b4;\" x=\"225.876006\" xlink:href=\"#mb5a4e2ba36\" y=\"91.210909\"/>\n     <use style=\"fill:#1f77b4;stroke:#1f77b4;\" x=\"236.193418\" xlink:href=\"#mb5a4e2ba36\" y=\"99.447273\"/>\n     <use style=\"fill:#1f77b4;stroke:#1f77b4;\" x=\"220.717301\" xlink:href=\"#mb5a4e2ba36\" y=\"115.92\"/>\n     <use style=\"fill:#1f77b4;stroke:#1f77b4;\" x=\"205.241184\" xlink:href=\"#mb5a4e2ba36\" y=\"115.92\"/>\n     <use style=\"fill:#1f77b4;stroke:#1f77b4;\" x=\"200.082478\" xlink:href=\"#mb5a4e2ba36\" y=\"115.92\"/>\n     <use style=\"fill:#1f77b4;stroke:#1f77b4;\" x=\"220.717301\" xlink:href=\"#mb5a4e2ba36\" y=\"124.156364\"/>\n     <use style=\"fill:#1f77b4;stroke:#1f77b4;\" x=\"231.034712\" xlink:href=\"#mb5a4e2ba36\" y=\"107.683636\"/>\n     <use style=\"fill:#1f77b4;stroke:#1f77b4;\" x=\"200.082478\" xlink:href=\"#mb5a4e2ba36\" y=\"124.156364\"/>\n     <use style=\"fill:#1f77b4;stroke:#1f77b4;\" x=\"163.971538\" xlink:href=\"#mb5a4e2ba36\" y=\"140.629091\"/>\n     <use style=\"fill:#1f77b4;stroke:#1f77b4;\" x=\"210.399889\" xlink:href=\"#mb5a4e2ba36\" y=\"115.92\"/>\n     <use style=\"fill:#1f77b4;stroke:#1f77b4;\" x=\"210.399889\" xlink:href=\"#mb5a4e2ba36\" y=\"124.156364\"/>\n     <use style=\"fill:#1f77b4;stroke:#1f77b4;\" x=\"210.399889\" xlink:href=\"#mb5a4e2ba36\" y=\"115.92\"/>\n     <use style=\"fill:#1f77b4;stroke:#1f77b4;\" x=\"215.558595\" xlink:href=\"#mb5a4e2ba36\" y=\"115.92\"/>\n     <use style=\"fill:#1f77b4;stroke:#1f77b4;\" x=\"148.495421\" xlink:href=\"#mb5a4e2ba36\" y=\"132.392727\"/>\n     <use style=\"fill:#1f77b4;stroke:#1f77b4;\" x=\"205.241184\" xlink:href=\"#mb5a4e2ba36\" y=\"115.92\"/>\n     <use style=\"fill:#1f77b4;stroke:#1f77b4;\" x=\"303.256592\" xlink:href=\"#mb5a4e2ba36\" y=\"17.083636\"/>\n     <use style=\"fill:#1f77b4;stroke:#1f77b4;\" x=\"256.828241\" xlink:href=\"#mb5a4e2ba36\" y=\"66.501818\"/>\n     <use style=\"fill:#1f77b4;stroke:#1f77b4;\" x=\"298.097886\" xlink:href=\"#mb5a4e2ba36\" y=\"50.029091\"/>\n     <use style=\"fill:#1f77b4;stroke:#1f77b4;\" x=\"282.621769\" xlink:href=\"#mb5a4e2ba36\" y=\"74.738182\"/>\n     <use style=\"fill:#1f77b4;stroke:#1f77b4;\" x=\"292.93918\" xlink:href=\"#mb5a4e2ba36\" y=\"41.792727\"/>\n     <use style=\"fill:#1f77b4;stroke:#1f77b4;\" x=\"334.208826\" xlink:href=\"#mb5a4e2ba36\" y=\"50.029091\"/>\n     <use style=\"fill:#1f77b4;stroke:#1f77b4;\" x=\"225.876006\" xlink:href=\"#mb5a4e2ba36\" y=\"82.974545\"/>\n     <use style=\"fill:#1f77b4;stroke:#1f77b4;\" x=\"318.732709\" xlink:href=\"#mb5a4e2ba36\" y=\"74.738182\"/>\n     <use style=\"fill:#1f77b4;stroke:#1f77b4;\" x=\"292.93918\" xlink:href=\"#mb5a4e2ba36\" y=\"74.738182\"/>\n     <use style=\"fill:#1f77b4;stroke:#1f77b4;\" x=\"308.415298\" xlink:href=\"#mb5a4e2ba36\" y=\"17.083636\"/>\n     <use style=\"fill:#1f77b4;stroke:#1f77b4;\" x=\"256.828241\" xlink:href=\"#mb5a4e2ba36\" y=\"58.265455\"/>\n     <use style=\"fill:#1f77b4;stroke:#1f77b4;\" x=\"267.145652\" xlink:href=\"#mb5a4e2ba36\" y=\"66.501818\"/>\n     <use style=\"fill:#1f77b4;stroke:#1f77b4;\" x=\"277.463063\" xlink:href=\"#mb5a4e2ba36\" y=\"50.029091\"/>\n     <use style=\"fill:#1f77b4;stroke:#1f77b4;\" x=\"251.669535\" xlink:href=\"#mb5a4e2ba36\" y=\"58.265455\"/>\n     <use style=\"fill:#1f77b4;stroke:#1f77b4;\" x=\"256.828241\" xlink:href=\"#mb5a4e2ba36\" y=\"25.32\"/>\n     <use style=\"fill:#1f77b4;stroke:#1f77b4;\" x=\"267.145652\" xlink:href=\"#mb5a4e2ba36\" y=\"33.556364\"/>\n     <use style=\"fill:#1f77b4;stroke:#1f77b4;\" x=\"277.463063\" xlink:href=\"#mb5a4e2ba36\" y=\"74.738182\"/>\n     <use style=\"fill:#1f77b4;stroke:#1f77b4;\" x=\"339.367532\" xlink:href=\"#mb5a4e2ba36\" y=\"41.792727\"/>\n     <use style=\"fill:#1f77b4;stroke:#1f77b4;\" x=\"349.684943\" xlink:href=\"#mb5a4e2ba36\" y=\"33.556364\"/>\n     <use style=\"fill:#1f77b4;stroke:#1f77b4;\" x=\"251.669535\" xlink:href=\"#mb5a4e2ba36\" y=\"99.447273\"/>\n     <use style=\"fill:#1f77b4;stroke:#1f77b4;\" x=\"287.780475\" xlink:href=\"#mb5a4e2ba36\" y=\"33.556364\"/>\n     <use style=\"fill:#1f77b4;stroke:#1f77b4;\" x=\"246.510829\" xlink:href=\"#mb5a4e2ba36\" y=\"58.265455\"/>\n     <use style=\"fill:#1f77b4;stroke:#1f77b4;\" x=\"339.367532\" xlink:href=\"#mb5a4e2ba36\" y=\"58.265455\"/>\n     <use style=\"fill:#1f77b4;stroke:#1f77b4;\" x=\"246.510829\" xlink:href=\"#mb5a4e2ba36\" y=\"74.738182\"/>\n     <use style=\"fill:#1f77b4;stroke:#1f77b4;\" x=\"287.780475\" xlink:href=\"#mb5a4e2ba36\" y=\"50.029091\"/>\n     <use style=\"fill:#1f77b4;stroke:#1f77b4;\" x=\"303.256592\" xlink:href=\"#mb5a4e2ba36\" y=\"74.738182\"/>\n     <use style=\"fill:#1f77b4;stroke:#1f77b4;\" x=\"241.352123\" xlink:href=\"#mb5a4e2ba36\" y=\"74.738182\"/>\n     <use style=\"fill:#1f77b4;stroke:#1f77b4;\" x=\"246.510829\" xlink:href=\"#mb5a4e2ba36\" y=\"74.738182\"/>\n     <use style=\"fill:#1f77b4;stroke:#1f77b4;\" x=\"282.621769\" xlink:href=\"#mb5a4e2ba36\" y=\"50.029091\"/>\n     <use style=\"fill:#1f77b4;stroke:#1f77b4;\" x=\"292.93918\" xlink:href=\"#mb5a4e2ba36\" y=\"91.210909\"/>\n     <use style=\"fill:#1f77b4;stroke:#1f77b4;\" x=\"308.415298\" xlink:href=\"#mb5a4e2ba36\" y=\"66.501818\"/>\n     <use style=\"fill:#1f77b4;stroke:#1f77b4;\" x=\"323.891415\" xlink:href=\"#mb5a4e2ba36\" y=\"58.265455\"/>\n     <use style=\"fill:#1f77b4;stroke:#1f77b4;\" x=\"282.621769\" xlink:href=\"#mb5a4e2ba36\" y=\"41.792727\"/>\n     <use style=\"fill:#1f77b4;stroke:#1f77b4;\" x=\"256.828241\" xlink:href=\"#mb5a4e2ba36\" y=\"99.447273\"/>\n     <use style=\"fill:#1f77b4;stroke:#1f77b4;\" x=\"282.621769\" xlink:href=\"#mb5a4e2ba36\" y=\"107.683636\"/>\n     <use style=\"fill:#1f77b4;stroke:#1f77b4;\" x=\"308.415298\" xlink:href=\"#mb5a4e2ba36\" y=\"33.556364\"/>\n     <use style=\"fill:#1f77b4;stroke:#1f77b4;\" x=\"282.621769\" xlink:href=\"#mb5a4e2ba36\" y=\"25.32\"/>\n     <use style=\"fill:#1f77b4;stroke:#1f77b4;\" x=\"277.463063\" xlink:href=\"#mb5a4e2ba36\" y=\"74.738182\"/>\n     <use style=\"fill:#1f77b4;stroke:#1f77b4;\" x=\"241.352123\" xlink:href=\"#mb5a4e2ba36\" y=\"74.738182\"/>\n     <use style=\"fill:#1f77b4;stroke:#1f77b4;\" x=\"272.304358\" xlink:href=\"#mb5a4e2ba36\" y=\"50.029091\"/>\n     <use style=\"fill:#1f77b4;stroke:#1f77b4;\" x=\"282.621769\" xlink:href=\"#mb5a4e2ba36\" y=\"25.32\"/>\n     <use style=\"fill:#1f77b4;stroke:#1f77b4;\" x=\"256.828241\" xlink:href=\"#mb5a4e2ba36\" y=\"33.556364\"/>\n     <use style=\"fill:#1f77b4;stroke:#1f77b4;\" x=\"256.828241\" xlink:href=\"#mb5a4e2ba36\" y=\"66.501818\"/>\n     <use style=\"fill:#1f77b4;stroke:#1f77b4;\" x=\"298.097886\" xlink:href=\"#mb5a4e2ba36\" y=\"33.556364\"/>\n     <use style=\"fill:#1f77b4;stroke:#1f77b4;\" x=\"287.780475\" xlink:href=\"#mb5a4e2ba36\" y=\"17.083636\"/>\n     <use style=\"fill:#1f77b4;stroke:#1f77b4;\" x=\"261.986946\" xlink:href=\"#mb5a4e2ba36\" y=\"33.556364\"/>\n     <use style=\"fill:#1f77b4;stroke:#1f77b4;\" x=\"251.669535\" xlink:href=\"#mb5a4e2ba36\" y=\"66.501818\"/>\n     <use style=\"fill:#1f77b4;stroke:#1f77b4;\" x=\"261.986946\" xlink:href=\"#mb5a4e2ba36\" y=\"58.265455\"/>\n     <use style=\"fill:#1f77b4;stroke:#1f77b4;\" x=\"272.304358\" xlink:href=\"#mb5a4e2ba36\" y=\"33.556364\"/>\n     <use style=\"fill:#1f77b4;stroke:#1f77b4;\" x=\"256.828241\" xlink:href=\"#mb5a4e2ba36\" y=\"74.738182\"/>\n    </g>\n   </g>\n   <g id=\"matplotlib.axis_1\">\n    <g id=\"xtick_1\">\n     <g id=\"line2d_1\">\n      <defs>\n       <path d=\"M 0 0 \nL 0 3.5 \n\" id=\"mc962253fc4\" style=\"stroke:#000000;stroke-width:0.8;\"/>\n      </defs>\n      <g>\n       <use style=\"stroke:#000000;stroke-width:0.8;\" x=\"45.321307\" xlink:href=\"#mc962253fc4\" y=\"224.64\"/>\n      </g>\n     </g>\n     <g id=\"text_1\">\n      <!-- 1 -->\n      <g transform=\"translate(42.140057 239.238437)scale(0.1 -0.1)\">\n       <defs>\n        <path d=\"M 12.40625 8.296875 \nL 28.515625 8.296875 \nL 28.515625 63.921875 \nL 10.984375 60.40625 \nL 10.984375 69.390625 \nL 28.421875 72.90625 \nL 38.28125 72.90625 \nL 38.28125 8.296875 \nL 54.390625 8.296875 \nL 54.390625 0 \nL 12.40625 0 \nz\n\" id=\"DejaVuSans-49\"/>\n       </defs>\n       <use xlink:href=\"#DejaVuSans-49\"/>\n      </g>\n     </g>\n    </g>\n    <g id=\"xtick_2\">\n     <g id=\"line2d_2\">\n      <g>\n       <use style=\"stroke:#000000;stroke-width:0.8;\" x=\"96.908364\" xlink:href=\"#mc962253fc4\" y=\"224.64\"/>\n      </g>\n     </g>\n     <g id=\"text_2\">\n      <!-- 2 -->\n      <g transform=\"translate(93.727114 239.238437)scale(0.1 -0.1)\">\n       <defs>\n        <path d=\"M 19.1875 8.296875 \nL 53.609375 8.296875 \nL 53.609375 0 \nL 7.328125 0 \nL 7.328125 8.296875 \nQ 12.9375 14.109375 22.625 23.890625 \nQ 32.328125 33.6875 34.8125 36.53125 \nQ 39.546875 41.84375 41.421875 45.53125 \nQ 43.3125 49.21875 43.3125 52.78125 \nQ 43.3125 58.59375 39.234375 62.25 \nQ 35.15625 65.921875 28.609375 65.921875 \nQ 23.96875 65.921875 18.8125 64.3125 \nQ 13.671875 62.703125 7.8125 59.421875 \nL 7.8125 69.390625 \nQ 13.765625 71.78125 18.9375 73 \nQ 24.125 74.21875 28.421875 74.21875 \nQ 39.75 74.21875 46.484375 68.546875 \nQ 53.21875 62.890625 53.21875 53.421875 \nQ 53.21875 48.921875 51.53125 44.890625 \nQ 49.859375 40.875 45.40625 35.40625 \nQ 44.1875 33.984375 37.640625 27.21875 \nQ 31.109375 20.453125 19.1875 8.296875 \nz\n\" id=\"DejaVuSans-50\"/>\n       </defs>\n       <use xlink:href=\"#DejaVuSans-50\"/>\n      </g>\n     </g>\n    </g>\n    <g id=\"xtick_3\">\n     <g id=\"line2d_3\">\n      <g>\n       <use style=\"stroke:#000000;stroke-width:0.8;\" x=\"148.495421\" xlink:href=\"#mc962253fc4\" y=\"224.64\"/>\n      </g>\n     </g>\n     <g id=\"text_3\">\n      <!-- 3 -->\n      <g transform=\"translate(145.314171 239.238437)scale(0.1 -0.1)\">\n       <defs>\n        <path d=\"M 40.578125 39.3125 \nQ 47.65625 37.796875 51.625 33 \nQ 55.609375 28.21875 55.609375 21.1875 \nQ 55.609375 10.40625 48.1875 4.484375 \nQ 40.765625 -1.421875 27.09375 -1.421875 \nQ 22.515625 -1.421875 17.65625 -0.515625 \nQ 12.796875 0.390625 7.625 2.203125 \nL 7.625 11.71875 \nQ 11.71875 9.328125 16.59375 8.109375 \nQ 21.484375 6.890625 26.8125 6.890625 \nQ 36.078125 6.890625 40.9375 10.546875 \nQ 45.796875 14.203125 45.796875 21.1875 \nQ 45.796875 27.640625 41.28125 31.265625 \nQ 36.765625 34.90625 28.71875 34.90625 \nL 20.21875 34.90625 \nL 20.21875 43.015625 \nL 29.109375 43.015625 \nQ 36.375 43.015625 40.234375 45.921875 \nQ 44.09375 48.828125 44.09375 54.296875 \nQ 44.09375 59.90625 40.109375 62.90625 \nQ 36.140625 65.921875 28.71875 65.921875 \nQ 24.65625 65.921875 20.015625 65.03125 \nQ 15.375 64.15625 9.8125 62.3125 \nL 9.8125 71.09375 \nQ 15.4375 72.65625 20.34375 73.4375 \nQ 25.25 74.21875 29.59375 74.21875 \nQ 40.828125 74.21875 47.359375 69.109375 \nQ 53.90625 64.015625 53.90625 55.328125 \nQ 53.90625 49.265625 50.4375 45.09375 \nQ 46.96875 40.921875 40.578125 39.3125 \nz\n\" id=\"DejaVuSans-51\"/>\n       </defs>\n       <use xlink:href=\"#DejaVuSans-51\"/>\n      </g>\n     </g>\n    </g>\n    <g id=\"xtick_4\">\n     <g id=\"line2d_4\">\n      <g>\n       <use style=\"stroke:#000000;stroke-width:0.8;\" x=\"200.082478\" xlink:href=\"#mc962253fc4\" y=\"224.64\"/>\n      </g>\n     </g>\n     <g id=\"text_4\">\n      <!-- 4 -->\n      <g transform=\"translate(196.901228 239.238437)scale(0.1 -0.1)\">\n       <defs>\n        <path d=\"M 37.796875 64.3125 \nL 12.890625 25.390625 \nL 37.796875 25.390625 \nz\nM 35.203125 72.90625 \nL 47.609375 72.90625 \nL 47.609375 25.390625 \nL 58.015625 25.390625 \nL 58.015625 17.1875 \nL 47.609375 17.1875 \nL 47.609375 0 \nL 37.796875 0 \nL 37.796875 17.1875 \nL 4.890625 17.1875 \nL 4.890625 26.703125 \nz\n\" id=\"DejaVuSans-52\"/>\n       </defs>\n       <use xlink:href=\"#DejaVuSans-52\"/>\n      </g>\n     </g>\n    </g>\n    <g id=\"xtick_5\">\n     <g id=\"line2d_5\">\n      <g>\n       <use style=\"stroke:#000000;stroke-width:0.8;\" x=\"251.669535\" xlink:href=\"#mc962253fc4\" y=\"224.64\"/>\n      </g>\n     </g>\n     <g id=\"text_5\">\n      <!-- 5 -->\n      <g transform=\"translate(248.488285 239.238437)scale(0.1 -0.1)\">\n       <defs>\n        <path d=\"M 10.796875 72.90625 \nL 49.515625 72.90625 \nL 49.515625 64.59375 \nL 19.828125 64.59375 \nL 19.828125 46.734375 \nQ 21.96875 47.46875 24.109375 47.828125 \nQ 26.265625 48.1875 28.421875 48.1875 \nQ 40.625 48.1875 47.75 41.5 \nQ 54.890625 34.8125 54.890625 23.390625 \nQ 54.890625 11.625 47.5625 5.09375 \nQ 40.234375 -1.421875 26.90625 -1.421875 \nQ 22.3125 -1.421875 17.546875 -0.640625 \nQ 12.796875 0.140625 7.71875 1.703125 \nL 7.71875 11.625 \nQ 12.109375 9.234375 16.796875 8.0625 \nQ 21.484375 6.890625 26.703125 6.890625 \nQ 35.15625 6.890625 40.078125 11.328125 \nQ 45.015625 15.765625 45.015625 23.390625 \nQ 45.015625 31 40.078125 35.4375 \nQ 35.15625 39.890625 26.703125 39.890625 \nQ 22.75 39.890625 18.8125 39.015625 \nQ 14.890625 38.140625 10.796875 36.28125 \nz\n\" id=\"DejaVuSans-53\"/>\n       </defs>\n       <use xlink:href=\"#DejaVuSans-53\"/>\n      </g>\n     </g>\n    </g>\n    <g id=\"xtick_6\">\n     <g id=\"line2d_6\">\n      <g>\n       <use style=\"stroke:#000000;stroke-width:0.8;\" x=\"303.256592\" xlink:href=\"#mc962253fc4\" y=\"224.64\"/>\n      </g>\n     </g>\n     <g id=\"text_6\">\n      <!-- 6 -->\n      <g transform=\"translate(300.075342 239.238437)scale(0.1 -0.1)\">\n       <defs>\n        <path d=\"M 33.015625 40.375 \nQ 26.375 40.375 22.484375 35.828125 \nQ 18.609375 31.296875 18.609375 23.390625 \nQ 18.609375 15.53125 22.484375 10.953125 \nQ 26.375 6.390625 33.015625 6.390625 \nQ 39.65625 6.390625 43.53125 10.953125 \nQ 47.40625 15.53125 47.40625 23.390625 \nQ 47.40625 31.296875 43.53125 35.828125 \nQ 39.65625 40.375 33.015625 40.375 \nz\nM 52.59375 71.296875 \nL 52.59375 62.3125 \nQ 48.875 64.0625 45.09375 64.984375 \nQ 41.3125 65.921875 37.59375 65.921875 \nQ 27.828125 65.921875 22.671875 59.328125 \nQ 17.53125 52.734375 16.796875 39.40625 \nQ 19.671875 43.65625 24.015625 45.921875 \nQ 28.375 48.1875 33.59375 48.1875 \nQ 44.578125 48.1875 50.953125 41.515625 \nQ 57.328125 34.859375 57.328125 23.390625 \nQ 57.328125 12.15625 50.6875 5.359375 \nQ 44.046875 -1.421875 33.015625 -1.421875 \nQ 20.359375 -1.421875 13.671875 8.265625 \nQ 6.984375 17.96875 6.984375 36.375 \nQ 6.984375 53.65625 15.1875 63.9375 \nQ 23.390625 74.21875 37.203125 74.21875 \nQ 40.921875 74.21875 44.703125 73.484375 \nQ 48.484375 72.75 52.59375 71.296875 \nz\n\" id=\"DejaVuSans-54\"/>\n       </defs>\n       <use xlink:href=\"#DejaVuSans-54\"/>\n      </g>\n     </g>\n    </g>\n    <g id=\"xtick_7\">\n     <g id=\"line2d_7\">\n      <g>\n       <use style=\"stroke:#000000;stroke-width:0.8;\" x=\"354.843649\" xlink:href=\"#mc962253fc4\" y=\"224.64\"/>\n      </g>\n     </g>\n     <g id=\"text_7\">\n      <!-- 7 -->\n      <g transform=\"translate(351.662399 239.238437)scale(0.1 -0.1)\">\n       <defs>\n        <path d=\"M 8.203125 72.90625 \nL 55.078125 72.90625 \nL 55.078125 68.703125 \nL 28.609375 0 \nL 18.3125 0 \nL 43.21875 64.59375 \nL 8.203125 64.59375 \nz\n\" id=\"DejaVuSans-55\"/>\n       </defs>\n       <use xlink:href=\"#DejaVuSans-55\"/>\n      </g>\n     </g>\n    </g>\n   </g>\n   <g id=\"matplotlib.axis_2\">\n    <g id=\"ytick_1\">\n     <g id=\"line2d_8\">\n      <defs>\n       <path d=\"M 0 0 \nL -3.5 0 \n\" id=\"m84efb8c2f1\" style=\"stroke:#000000;stroke-width:0.8;\"/>\n      </defs>\n      <g>\n       <use style=\"stroke:#000000;stroke-width:0.8;\" x=\"30.103125\" xlink:href=\"#m84efb8c2f1\" y=\"222.992727\"/>\n      </g>\n     </g>\n     <g id=\"text_8\">\n      <!-- 0.0 -->\n      <g transform=\"translate(7.2 226.791946)scale(0.1 -0.1)\">\n       <defs>\n        <path d=\"M 31.78125 66.40625 \nQ 24.171875 66.40625 20.328125 58.90625 \nQ 16.5 51.421875 16.5 36.375 \nQ 16.5 21.390625 20.328125 13.890625 \nQ 24.171875 6.390625 31.78125 6.390625 \nQ 39.453125 6.390625 43.28125 13.890625 \nQ 47.125 21.390625 47.125 36.375 \nQ 47.125 51.421875 43.28125 58.90625 \nQ 39.453125 66.40625 31.78125 66.40625 \nz\nM 31.78125 74.21875 \nQ 44.046875 74.21875 50.515625 64.515625 \nQ 56.984375 54.828125 56.984375 36.375 \nQ 56.984375 17.96875 50.515625 8.265625 \nQ 44.046875 -1.421875 31.78125 -1.421875 \nQ 19.53125 -1.421875 13.0625 8.265625 \nQ 6.59375 17.96875 6.59375 36.375 \nQ 6.59375 54.828125 13.0625 64.515625 \nQ 19.53125 74.21875 31.78125 74.21875 \nz\n\" id=\"DejaVuSans-48\"/>\n        <path d=\"M 10.6875 12.40625 \nL 21 12.40625 \nL 21 0 \nL 10.6875 0 \nz\n\" id=\"DejaVuSans-46\"/>\n       </defs>\n       <use xlink:href=\"#DejaVuSans-48\"/>\n       <use x=\"63.623047\" xlink:href=\"#DejaVuSans-46\"/>\n       <use x=\"95.410156\" xlink:href=\"#DejaVuSans-48\"/>\n      </g>\n     </g>\n    </g>\n    <g id=\"ytick_2\">\n     <g id=\"line2d_9\">\n      <g>\n       <use style=\"stroke:#000000;stroke-width:0.8;\" x=\"30.103125\" xlink:href=\"#m84efb8c2f1\" y=\"181.810909\"/>\n      </g>\n     </g>\n     <g id=\"text_9\">\n      <!-- 0.5 -->\n      <g transform=\"translate(7.2 185.610128)scale(0.1 -0.1)\">\n       <use xlink:href=\"#DejaVuSans-48\"/>\n       <use x=\"63.623047\" xlink:href=\"#DejaVuSans-46\"/>\n       <use x=\"95.410156\" xlink:href=\"#DejaVuSans-53\"/>\n      </g>\n     </g>\n    </g>\n    <g id=\"ytick_3\">\n     <g id=\"line2d_10\">\n      <g>\n       <use style=\"stroke:#000000;stroke-width:0.8;\" x=\"30.103125\" xlink:href=\"#m84efb8c2f1\" y=\"140.629091\"/>\n      </g>\n     </g>\n     <g id=\"text_10\">\n      <!-- 1.0 -->\n      <g transform=\"translate(7.2 144.42831)scale(0.1 -0.1)\">\n       <use xlink:href=\"#DejaVuSans-49\"/>\n       <use x=\"63.623047\" xlink:href=\"#DejaVuSans-46\"/>\n       <use x=\"95.410156\" xlink:href=\"#DejaVuSans-48\"/>\n      </g>\n     </g>\n    </g>\n    <g id=\"ytick_4\">\n     <g id=\"line2d_11\">\n      <g>\n       <use style=\"stroke:#000000;stroke-width:0.8;\" x=\"30.103125\" xlink:href=\"#m84efb8c2f1\" y=\"99.447273\"/>\n      </g>\n     </g>\n     <g id=\"text_11\">\n      <!-- 1.5 -->\n      <g transform=\"translate(7.2 103.246491)scale(0.1 -0.1)\">\n       <use xlink:href=\"#DejaVuSans-49\"/>\n       <use x=\"63.623047\" xlink:href=\"#DejaVuSans-46\"/>\n       <use x=\"95.410156\" xlink:href=\"#DejaVuSans-53\"/>\n      </g>\n     </g>\n    </g>\n    <g id=\"ytick_5\">\n     <g id=\"line2d_12\">\n      <g>\n       <use style=\"stroke:#000000;stroke-width:0.8;\" x=\"30.103125\" xlink:href=\"#m84efb8c2f1\" y=\"58.265455\"/>\n      </g>\n     </g>\n     <g id=\"text_12\">\n      <!-- 2.0 -->\n      <g transform=\"translate(7.2 62.064673)scale(0.1 -0.1)\">\n       <use xlink:href=\"#DejaVuSans-50\"/>\n       <use x=\"63.623047\" xlink:href=\"#DejaVuSans-46\"/>\n       <use x=\"95.410156\" xlink:href=\"#DejaVuSans-48\"/>\n      </g>\n     </g>\n    </g>\n    <g id=\"ytick_6\">\n     <g id=\"line2d_13\">\n      <g>\n       <use style=\"stroke:#000000;stroke-width:0.8;\" x=\"30.103125\" xlink:href=\"#m84efb8c2f1\" y=\"17.083636\"/>\n      </g>\n     </g>\n     <g id=\"text_13\">\n      <!-- 2.5 -->\n      <g transform=\"translate(7.2 20.882855)scale(0.1 -0.1)\">\n       <use xlink:href=\"#DejaVuSans-50\"/>\n       <use x=\"63.623047\" xlink:href=\"#DejaVuSans-46\"/>\n       <use x=\"95.410156\" xlink:href=\"#DejaVuSans-53\"/>\n      </g>\n     </g>\n    </g>\n   </g>\n   <g id=\"patch_3\">\n    <path d=\"M 30.103125 224.64 \nL 30.103125 7.2 \n\" style=\"fill:none;stroke:#000000;stroke-linecap:square;stroke-linejoin:miter;stroke-width:0.8;\"/>\n   </g>\n   <g id=\"patch_4\">\n    <path d=\"M 364.903125 224.64 \nL 364.903125 7.2 \n\" style=\"fill:none;stroke:#000000;stroke-linecap:square;stroke-linejoin:miter;stroke-width:0.8;\"/>\n   </g>\n   <g id=\"patch_5\">\n    <path d=\"M 30.103125 224.64 \nL 364.903125 224.64 \n\" style=\"fill:none;stroke:#000000;stroke-linecap:square;stroke-linejoin:miter;stroke-width:0.8;\"/>\n   </g>\n   <g id=\"patch_6\">\n    <path d=\"M 30.103125 7.2 \nL 364.903125 7.2 \n\" style=\"fill:none;stroke:#000000;stroke-linecap:square;stroke-linejoin:miter;stroke-width:0.8;\"/>\n   </g>\n  </g>\n </g>\n <defs>\n  <clipPath id=\"pfbd2e4c734\">\n   <rect height=\"217.44\" width=\"334.8\" x=\"30.103125\" y=\"7.2\"/>\n  </clipPath>\n </defs>\n</svg>\n",
      "image/png": "[encoded data removed]"
     },
     "metadata": {
      "needs_background": "light"
     }
    }
   ],
   "source": [
    "plt.figure()\n",
    "plt.scatter(X[:, 2], X[:, 3])"
   ]
  },
  {
   "cell_type": "code",
   "execution_count": 8,
   "metadata": {},
   "outputs": [
    {
     "output_type": "execute_result",
     "data": {
      "text/plain": [
       "SGDClassifier()"
      ]
     },
     "metadata": {},
     "execution_count": 8
    }
   ],
   "source": [
    "model1 = SGDClassifier()\n",
    "model1.fit(X_train, y_train)"
   ]
  },
  {
   "cell_type": "code",
   "execution_count": 21,
   "metadata": {},
   "outputs": [
    {
     "output_type": "execute_result",
     "data": {
      "text/plain": [
       "array([0, 2, 0, 0, 2, 0, 2, 1, 0, 0, 2, 2, 2, 0, 2, 0, 0, 2, 2, 2, 0, 0,\n",
       "       2, 2, 2, 2, 1, 2, 2, 2])"
      ]
     },
     "metadata": {},
     "execution_count": 21
    }
   ],
   "source": [
    "model1.predict(X_test)"
   ]
  },
  {
   "cell_type": "code",
   "execution_count": 9,
   "metadata": {},
   "outputs": [
    {
     "output_type": "execute_result",
     "data": {
      "text/plain": [
       "0.7666666666666667"
      ]
     },
     "metadata": {},
     "execution_count": 9
    }
   ],
   "source": [
    "model1.score(X_test, y_test)"
   ]
  },
  {
   "source": [
    "## Using transformer and normalizer / preprocessing"
   ],
   "cell_type": "markdown",
   "metadata": {}
  },
  {
   "cell_type": "code",
   "execution_count": 12,
   "metadata": {},
   "outputs": [],
   "source": [
    "# Normalizer\n",
    "scaler = StandardScaler()\n",
    "\n",
    "X_train_trans = scaler.fit_transform(X_train)"
   ]
  },
  {
   "cell_type": "code",
   "execution_count": 14,
   "metadata": {},
   "outputs": [
    {
     "output_type": "execute_result",
     "data": {
      "text/plain": [
       "SGDClassifier()"
      ]
     },
     "metadata": {},
     "execution_count": 14
    }
   ],
   "source": [
    "#estimate\n",
    "model2 = SGDClassifier()\n",
    "model2.fit(X_train_trans, y_train)"
   ]
  },
  {
   "cell_type": "code",
   "execution_count": 15,
   "metadata": {},
   "outputs": [],
   "source": [
    "# normalize X_test\n",
    "\n",
    "X_test_trans = scaler.fit_transform(X_test)"
   ]
  },
  {
   "cell_type": "code",
   "execution_count": 17,
   "metadata": {},
   "outputs": [
    {
     "output_type": "execute_result",
     "data": {
      "text/plain": [
       "array([0, 1, 0, 0, 2, 0, 2, 1, 0, 0, 2, 2, 1, 0, 1, 0, 1, 1, 2, 2, 0, 0,\n",
       "       2, 1, 2, 2, 1, 2, 2, 1])"
      ]
     },
     "metadata": {},
     "execution_count": 17
    }
   ],
   "source": [
    "model2.predict(X_test_trans)"
   ]
  },
  {
   "cell_type": "code",
   "execution_count": 18,
   "metadata": {},
   "outputs": [
    {
     "output_type": "execute_result",
     "data": {
      "text/plain": [
       "0.9333333333333333"
      ]
     },
     "metadata": {},
     "execution_count": 18
    }
   ],
   "source": [
    "model2.score(X_test_trans, y_test)"
   ]
  },
  {
   "source": [
    "## Using Pipeline "
   ],
   "cell_type": "markdown",
   "metadata": {}
  },
  {
   "cell_type": "code",
   "execution_count": 25,
   "metadata": {},
   "outputs": [],
   "source": [
    "#make the pipeline\n",
    "pipe = make_pipeline(StandardScaler(), SGDClassifier())"
   ]
  },
  {
   "cell_type": "code",
   "execution_count": 26,
   "metadata": {},
   "outputs": [
    {
     "output_type": "execute_result",
     "data": {
      "text/plain": [
       "Pipeline(steps=[('standardscaler', StandardScaler()),\n",
       "                ('sgdclassifier', SGDClassifier())])"
      ]
     },
     "metadata": {},
     "execution_count": 26
    }
   ],
   "source": [
    "pipe"
   ]
  },
  {
   "cell_type": "code",
   "execution_count": 27,
   "metadata": {},
   "outputs": [
    {
     "output_type": "execute_result",
     "data": {
      "text/plain": [
       "Pipeline(steps=[('standardscaler', StandardScaler()),\n",
       "                ('sgdclassifier', SGDClassifier())])"
      ]
     },
     "metadata": {},
     "execution_count": 27
    }
   ],
   "source": [
    "pipe.fit(X_train, y_train)"
   ]
  },
  {
   "cell_type": "code",
   "execution_count": 28,
   "metadata": {},
   "outputs": [
    {
     "output_type": "execute_result",
     "data": {
      "text/plain": [
       "array([0, 1, 0, 0, 2, 0, 2, 1, 0, 0, 2, 2, 1, 0, 1, 0, 1, 1, 2, 2, 0, 0,\n",
       "       2, 2, 2, 2, 1, 2, 2, 1])"
      ]
     },
     "metadata": {},
     "execution_count": 28
    }
   ],
   "source": [
    "pipe.predict(X_test)"
   ]
  },
  {
   "cell_type": "code",
   "execution_count": 29,
   "metadata": {},
   "outputs": [
    {
     "output_type": "execute_result",
     "data": {
      "text/plain": [
       "0.9"
      ]
     },
     "metadata": {},
     "execution_count": 29
    }
   ],
   "source": [
    "pipe.score(X_test, y_test)"
   ]
  },
  {
   "source": [
    "### using gridsearchCV"
   ],
   "cell_type": "markdown",
   "metadata": {}
  },
  {
   "cell_type": "code",
   "execution_count": 34,
   "metadata": {},
   "outputs": [
    {
     "output_type": "execute_result",
     "data": {
      "text/plain": [
       "Pipeline(steps=[('polynomialfeatures', PolynomialFeatures()),\n",
       "                ('standardscaler', StandardScaler()),\n",
       "                ('sgdclassifier', SGDClassifier(random_state=0))])"
      ]
     },
     "metadata": {},
     "execution_count": 34
    }
   ],
   "source": [
    "model3 = make_pipeline(PolynomialFeatures(), \n",
    "                        StandardScaler(), \n",
    "                        SGDClassifier(random_state=0))\n",
    "\n",
    "                        \n",
    "model3"
   ]
  },
  {
   "cell_type": "code",
   "execution_count": 40,
   "metadata": {},
   "outputs": [],
   "source": [
    "params = {\n",
    "    'polynomialfeatures__degree': [2, 3, 4],\n",
    "    'sgdclassifier__penalty': ['l1', 'l2']\n",
    "}"
   ]
  },
  {
   "cell_type": "code",
   "execution_count": 41,
   "metadata": {},
   "outputs": [],
   "source": [
    "grid = GridSearchCV(model3, param_grid=params, cv=4)"
   ]
  },
  {
   "cell_type": "code",
   "execution_count": 42,
   "metadata": {},
   "outputs": [
    {
     "output_type": "execute_result",
     "data": {
      "text/plain": [
       "GridSearchCV(cv=4,\n",
       "             estimator=Pipeline(steps=[('polynomialfeatures',\n",
       "                                        PolynomialFeatures()),\n",
       "                                       ('standardscaler', StandardScaler()),\n",
       "                                       ('sgdclassifier',\n",
       "                                        SGDClassifier(random_state=0))]),\n",
       "             param_grid={'polynomialfeatures__degree': [2, 3, 4],\n",
       "                         'sgdclassifier__penalty': ['l1', 'l2']})"
      ]
     },
     "metadata": {},
     "execution_count": 42
    }
   ],
   "source": [
    "grid.fit(X_train, y_train)"
   ]
  },
  {
   "cell_type": "code",
   "execution_count": 43,
   "metadata": {},
   "outputs": [
    {
     "output_type": "execute_result",
     "data": {
      "text/plain": [
       "array([0, 1, 0, 0, 2, 0, 2, 1, 0, 0, 2, 2, 1, 0, 1, 0, 0, 1, 2, 2, 0, 0,\n",
       "       2, 1, 2, 2, 1, 2, 2, 1])"
      ]
     },
     "metadata": {},
     "execution_count": 43
    }
   ],
   "source": [
    "grid.predict(X_test)"
   ]
  },
  {
   "cell_type": "code",
   "execution_count": 44,
   "metadata": {},
   "outputs": [
    {
     "output_type": "execute_result",
     "data": {
      "text/plain": [
       "0.9666666666666667"
      ]
     },
     "metadata": {},
     "execution_count": 44
    }
   ],
   "source": [
    "grid.score(X_test, y_test)"
   ]
  },
  {
   "cell_type": "code",
   "execution_count": 46,
   "metadata": {},
   "outputs": [
    {
     "output_type": "execute_result",
     "data": {
      "text/plain": [
       "{'polynomialfeatures__degree': 4, 'sgdclassifier__penalty': 'l2'}"
      ]
     },
     "metadata": {},
     "execution_count": 46
    }
   ],
   "source": [
    "grid.best_params_"
   ]
  },
  {
   "cell_type": "code",
   "execution_count": 48,
   "metadata": {},
   "outputs": [
    {
     "output_type": "execute_result",
     "data": {
      "text/plain": [
       "0.9833333333333334"
      ]
     },
     "metadata": {},
     "execution_count": 48
    }
   ],
   "source": [
    "grid.best_score_"
   ]
  },
  {
   "cell_type": "code",
   "execution_count": 49,
   "metadata": {},
   "outputs": [
    {
     "output_type": "execute_result",
     "data": {
      "text/plain": [
       "Pipeline(steps=[('polynomialfeatures', PolynomialFeatures(degree=4)),\n",
       "                ('standardscaler', StandardScaler()),\n",
       "                ('sgdclassifier', SGDClassifier(random_state=0))])"
      ]
     },
     "metadata": {},
     "execution_count": 49
    }
   ],
   "source": [
    "grid.best_estimator_"
   ]
  },
  {
   "cell_type": "code",
   "execution_count": null,
   "metadata": {},
   "outputs": [],
   "source": []
  }
 ]
}